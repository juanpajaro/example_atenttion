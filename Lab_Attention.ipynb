{
  "cells": [
    {
      "cell_type": "markdown",
      "metadata": {
        "id": "view-in-github",
        "colab_type": "text"
      },
      "source": [
        "<a href=\"https://colab.research.google.com/github/juanpajaro/example_atenttion/blob/main/Lab_Attention.ipynb\" target=\"_parent\"><img src=\"https://colab.research.google.com/assets/colab-badge.svg\" alt=\"Open In Colab\"/></a>"
      ]
    },
    {
      "cell_type": "markdown",
      "metadata": {
        "id": "oDqS0faYNBT0"
      },
      "source": [
        "# Scaled Dot-Product Attention: Ungraded Lab\n",
        "\n",
        "The 2017 paper [Attention Is All You Need](https://arxiv.org/abs/1706.03762) introduced the Transformer model and scaled dot-product attention, sometimes also called QKV (**Q**ueries, **K**eys, **V**alues) attention. Since then, Transformers have come to dominate large-scale natural language applications. Scaled dot-product attention can be used to improve seq2seq models as well. In this ungraded lab, you'll implement a simplified version of scaled dot-product attention and replicate word alignment between English and French, as shown in [Bhadanau, et al. (2014)](https://arxiv.org/abs/1409.0473).\n",
        "\n",
        "The Transformer model learns how to align words in different languages. You won't be training any weights here, so instead I've prepared some [pre-trained aligned word embeddings from here](https://fasttext.cc/docs/en/aligned-vectors.html). Run the cell below to load the embeddings and set up the rest of the notebook."
      ],
      "id": "oDqS0faYNBT0"
    },
    {
      "cell_type": "code",
      "source": [
        "file = \"/content/\""
      ],
      "metadata": {
        "id": "1PpOXNrDNzM8"
      },
      "id": "1PpOXNrDNzM8",
      "execution_count": null,
      "outputs": []
    },
    {
      "cell_type": "code",
      "execution_count": null,
      "metadata": {
        "id": "y7VjVpkONBT4"
      },
      "outputs": [],
      "source": [
        "import pickle\n",
        "import matplotlib.pyplot as plt\n",
        "import numpy as np\n",
        "\n",
        "# Load the word2int dictionaries\n",
        "with open(file + \"/word2int_en.pkl\", \"rb\") as f:\n",
        "    en_words = pickle.load(f)\n",
        "\n",
        "with open(file + \"/word2int_fr.pkl\", \"rb\") as f:\n",
        "    fr_words = pickle.load(f)\n",
        "\n",
        "# Load the word embeddings\n",
        "en_embeddings = np.load(file + \"/embeddings_en.npz\")[\"embeddings\"]\n",
        "fr_embeddings = np.load(file +\"/embeddings_fr.npz\")[\"embeddings\"]\n",
        "\n",
        "def tokenize(sentence, token_mapping):\n",
        "    tokenized = []\n",
        "\n",
        "    for word in sentence.lower().split(\" \"):\n",
        "        try:\n",
        "            tokenized.append(token_mapping[word])\n",
        "        except KeyError:\n",
        "            # Using -1 to indicate an unknown word\n",
        "            tokenized.append(-1)\n",
        "\n",
        "    return tokenized\n",
        "\n",
        "def embed(tokens, embeddings):\n",
        "    embed_size = embeddings.shape[1]\n",
        "\n",
        "    output = np.zeros((len(tokens), embed_size))\n",
        "    for i, token in enumerate(tokens):\n",
        "        if token == -1:\n",
        "            output[i] = np.zeros((1, embed_size))\n",
        "        else:\n",
        "            output[i] = embeddings[token]\n",
        "\n",
        "    return output"
      ],
      "id": "y7VjVpkONBT4"
    },
    {
      "cell_type": "markdown",
      "metadata": {
        "id": "v8QWV2GeNBT6"
      },
      "source": [
        "The scaled-dot product attention consists of two matrix multiplications and a softmax scaling as shown in the diagram below from [Vaswani, et al. (2017)](https://arxiv.org/abs/1706.03762). It takes three input matrices, the queries, keys, and values.\n",
        "\n",
        "Mathematically, this is expressed as\n",
        "\n",
        "$$\n",
        "\\large \\mathrm{Attention}\\left(Q, K, V\\right) = \\mathrm{softmax}\\left(\\frac{QK^{\\top}}{\\sqrt{d_k}}\\right)V\n",
        "$$\n",
        "\n",
        "where $Q$, $K$, and $V$ are the queries, keys, and values matrices respectively, and $d_k$ is the dimension of the keys. In practice, Q, K, and V all have the same dimensions. This form of attention is faster and more space-efficient than what you implemented before since it consists of only matrix multiplications instead of a learned feed-forward layer.\n",
        "\n",
        "Conceptually, the first matrix multiplication is a measure of the similarity between the queries and the keys. This is transformed into weights using the softmax function. These weights are then applied to the values with the second matrix multiplication resulting in output attention vectors. Typically, decoder states are used as the queries while encoder states are the keys and values.\n",
        "\n",
        "### Exercise 1\n",
        "Implement the softmax function with Numpy and use it to calculate the weights from the queries and keys. Assume the queries and keys are 2D arrays (matrices). Note that since the dot-product of Q and K will be a matrix, you'll need to take care to calculate softmax over a specific axis. See the end of the notebook for solutions."
      ],
      "id": "v8QWV2GeNBT6"
    },
    {
      "cell_type": "code",
      "execution_count": null,
      "metadata": {
        "id": "OHA7qRA3NBT6"
      },
      "outputs": [],
      "source": [
        "def softmax(x, axis=0):\n",
        "    \"\"\" Calculate softmax function for an array x\n",
        "\n",
        "        axis=0 calculates softmax across rows which means each column sums to 1\n",
        "        axis=1 calculates softmax across columns which means each row sums to 1\n",
        "    \"\"\"\n",
        "    # Replace pass with your code.\n",
        "    y = np.exp(x)\n",
        "    return y/ np.expand_dims(np.sum(y, axis = axis), axis)\n",
        "\n",
        "def calculate_weights(queries, keys):\n",
        "    \"\"\" Calculate the weights for scaled dot-product attention\"\"\"\n",
        "    # Replace None with your code.\n",
        "    dot = np.matmul(queries, keys.T)/np.sqrt(queries.shape[1])\n",
        "    weights = softmax(dot, axis=1)\n",
        "\n",
        "    assert weights.sum(axis=1)[0] == 1, \"Each row in weights must sum to 1\"\n",
        "\n",
        "    # Replace pass with your code.\n",
        "    return dot, weights"
      ],
      "id": "OHA7qRA3NBT6"
    },
    {
      "cell_type": "code",
      "source": [
        "sentence_en = \"The agreement on the European Economic Area was signed in August 1992 .\"\n",
        "tokenized_en = tokenize(sentence_en, en_words)\n",
        "embedded_en = embed(tokenized_en, en_embeddings)\n",
        "print(\"tokens in english\")\n",
        "print(len(tokenized_en))\n",
        "print(tokenized_en, \"\\n\")\n",
        "print(\"embeddings\")\n",
        "print(embedded_en.shape)\n",
        "print(embedded_en)"
      ],
      "metadata": {
        "id": "GQoBNACn0URc"
      },
      "id": "GQoBNACn0URc",
      "execution_count": null,
      "outputs": []
    },
    {
      "cell_type": "code",
      "source": [
        "sentence_fr = \"L accord sur la zone économique européenne a été signé en août 1992 .\"\n",
        "tokenized_fr = tokenize(sentence_fr, fr_words)\n",
        "embedded_fr = embed(tokenized_fr, fr_embeddings)\n",
        "print(\"tokens in french\")\n",
        "print(len(tokenized_fr))\n",
        "print(tokenized_fr, \"\\n\")\n",
        "print(\"embeddings\")\n",
        "print(embedded_fr.shape)\n",
        "print(embedded_fr)"
      ],
      "metadata": {
        "id": "B6D2Av9k3eu4"
      },
      "id": "B6D2Av9k3eu4",
      "execution_count": null,
      "outputs": []
    },
    {
      "cell_type": "code",
      "execution_count": null,
      "metadata": {
        "id": "EqsYFf8-NBT7"
      },
      "outputs": [],
      "source": [
        "# Tokenize example sentences in English and French, then get their embeddings\n",
        "sentence_en = \"The agreement on the European Economic Area was signed in August 1992 .\"\n",
        "tokenized_en = tokenize(sentence_en, en_words)\n",
        "embedded_en = embed(tokenized_en, en_embeddings)\n",
        "\n",
        "sentence_fr = \"L accord sur la zone économique européenne a été signé en août 1992 .\"\n",
        "tokenized_fr = tokenize(sentence_fr, fr_words)\n",
        "embedded_fr = embed(tokenized_fr, fr_embeddings)\n",
        "\n",
        "# These weights indicate alignment between words in English and French\n",
        "dot, alignment = calculate_weights(embedded_fr, embedded_en)\n",
        "print(alignment.shape, \"\\n\")\n",
        "print(dot.shape, \"\\n\")\n",
        "\n",
        "# Visualize weights to check for alignment\n",
        "fig, ax = plt.subplots(figsize=(7,7))\n",
        "ax.imshow(alignment, cmap='gray')\n",
        "ax.xaxis.tick_top()\n",
        "ax.set_xticks(np.arange(alignment.shape[1]))\n",
        "ax.set_xticklabels(sentence_en.split(\" \"), rotation=90, size=16);\n",
        "ax.set_yticks(np.arange(alignment.shape[0]));\n",
        "ax.set_yticklabels(sentence_fr.split(\" \"), size=16);"
      ],
      "id": "EqsYFf8-NBT7"
    }
  ],
  "metadata": {
    "kernelspec": {
      "display_name": "Python 3",
      "language": "python",
      "name": "python3"
    },
    "language_info": {
      "codemirror_mode": {
        "name": "ipython",
        "version": 3
      },
      "file_extension": ".py",
      "mimetype": "text/x-python",
      "name": "python",
      "nbconvert_exporter": "python",
      "pygments_lexer": "ipython3",
      "version": "3.7.6"
    },
    "colab": {
      "provenance": [],
      "include_colab_link": true
    }
  },
  "nbformat": 4,
  "nbformat_minor": 5
}